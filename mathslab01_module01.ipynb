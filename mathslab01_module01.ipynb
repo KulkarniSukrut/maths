{
  "nbformat": 4,
  "nbformat_minor": 0,
  "metadata": {
    "colab": {
      "provenance": []
    },
    "kernelspec": {
      "name": "python3",
      "display_name": "Python 3"
    },
    "language_info": {
      "name": "python"
    }
  },
  "cells": [
    {
      "cell_type": "code",
      "execution_count": null,
      "metadata": {
        "colab": {
          "base_uri": "https://localhost:8080/"
        },
        "id": "N4uIq5x-BbDd",
        "outputId": "aaee6fcf-0588-448b-a93c-5c37869c0a3d"
      },
      "outputs": [
        {
          "output_type": "stream",
          "name": "stdout",
          "text": [
            "the relation is reflecive\n"
          ]
        }
      ],
      "source": [
        "def reflexive(A,R):\n",
        "  for a in A:\n",
        "    if (a,a) not in R:\n",
        "      return False\n",
        "  return True\n",
        "A=[1,2,3]\n",
        "R=[(1,1),(2,2),(3,3)]\n",
        "if reflexive(A,R):\n",
        "  print(\"the relation is reflecive\")\n",
        "else:\n",
        "   print(\"the relation is not reflexive\")"
      ]
    },
    {
      "cell_type": "code",
      "source": [
        "def symmetric(A,R):\n",
        "  for a in A:\n",
        "    for b in A:\n",
        "      if (a,b) in R and (b,a) not in R:\n",
        "        return Flase\n",
        "    return True\n",
        "A=[1,2,3]\n",
        "R=[(1,1),(2,2),(3,3)]\n",
        "if symmetric(A,R):\n",
        "  print(\"relation is symmetri \")\n",
        "else:\n",
        "  print(\"relation is not stmmetruc\")"
      ],
      "metadata": {
        "colab": {
          "base_uri": "https://localhost:8080/"
        },
        "id": "y_w8y5ZYBj4B",
        "outputId": "c8172fc8-a7c4-44e0-f183-1fc6ab0e1c71"
      },
      "execution_count": null,
      "outputs": [
        {
          "output_type": "stream",
          "name": "stdout",
          "text": [
            "relation is symmetri \n"
          ]
        }
      ]
    },
    {
      "cell_type": "code",
      "source": [
        "def transitive(A, R):\n",
        " for a in A:\n",
        "  for b in A:\n",
        "   if (a, b) in R:\n",
        "    for c in A:\n",
        "     if (b, c) in R and (a, c) not in R:\n",
        "       return False\n",
        " return True\n",
        "A = [1, 2, 3]\n",
        "R = [(1, 1), (2, 2),(3,3)]\n",
        "if transitive(A, R):\n",
        "  print(\"The relation R is transitive.\")\n",
        "else:\n",
        "  print(\"The relation R is not transitive.\")"
      ],
      "metadata": {
        "colab": {
          "base_uri": "https://localhost:8080/"
        },
        "id": "A-aOEyLoBrM5",
        "outputId": "a99543ad-890b-41d6-e444-5abc64c0ecaa"
      },
      "execution_count": null,
      "outputs": [
        {
          "output_type": "stream",
          "name": "stdout",
          "text": [
            "The relation R is transitive.\n"
          ]
        }
      ]
    },
    {
      "cell_type": "code",
      "source": [
        "if reflexive(A,R) and symmetric(A,R) and transitive(A,R):\n",
        "  print(\"is equivalence relation\")\n",
        "else:\n",
        "  print(\"is not equivalence relation\")"
      ],
      "metadata": {
        "colab": {
          "base_uri": "https://localhost:8080/"
        },
        "id": "XV_ywmGSCFC_",
        "outputId": "07101307-48b0-4565-bd6f-2a92a021e3be"
      },
      "execution_count": null,
      "outputs": [
        {
          "output_type": "stream",
          "name": "stdout",
          "text": [
            "is not equivalence relation\n"
          ]
        }
      ]
    }
  ]
}

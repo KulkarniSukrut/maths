{
  "nbformat": 4,
  "nbformat_minor": 0,
  "metadata": {
    "colab": {
      "provenance": []
    },
    "kernelspec": {
      "name": "python3",
      "display_name": "Python 3"
    },
    "language_info": {
      "name": "python"
    }
  },
  "cells": [
    {
      "cell_type": "code",
      "execution_count": null,
      "metadata": {
        "colab": {
          "base_uri": "https://localhost:8080/"
        },
        "id": "LWO7f7QtKTOw",
        "outputId": "47c3d8af-d03f-465d-b5d6-911c25f18f4d"
      },
      "outputs": [
        {
          "output_type": "stream",
          "name": "stdout",
          "text": [
            "the func. is not one to one.\n"
          ]
        }
      ],
      "source": [
        "def one_to_one(A,B,f):\n",
        " for x1 in A:\n",
        "  for x2 in A:\n",
        "   if x1!=x2:\n",
        "    for y in B:\n",
        "      if (x1,y) in f and (x2,y) in f:\n",
        "        return False\n",
        " return True\n",
        "#define the sets and the function\n",
        "A=(1,5,8,9)\n",
        "B=(2,4)\n",
        "f={(1,2),(5,4),(8,2),(9,4)}\n",
        "#check if the func. is one to one\n",
        "if one_to_one(A,B,f):\n",
        "  print(\"The func. is one-to-one\")\n",
        "else:\n",
        "  print(\"the func. is not one to one.\")"
      ]
    },
    {
      "cell_type": "code",
      "source": [
        "def is_onto(A, B, f):\n",
        " for y in B:\n",
        "  found = False\n",
        "  for x in A:\n",
        "    if (x, y) in f:\n",
        "      found = True\n",
        "      break\n",
        "    if not found:\n",
        "      return False\n",
        "  return True\n",
        "# Define the sets and the function\n",
        "A = {1, 5, 8, 9}\n",
        "B = {2, 4}\n",
        "f={(1, 2), (5, 4), (8, 2), (9, 4)}\n",
        "# Check if the function is onto\n",
        "if is_onto(A, B, f):\n",
        "  print(\"The function f is onto.\")\n",
        "else:\n",
        "  print(\"The function f is not onto.\")"
      ],
      "metadata": {
        "colab": {
          "base_uri": "https://localhost:8080/"
        },
        "id": "vwsG_EXkNZTM",
        "outputId": "add675f1-c275-4407-be54-42a32c16fcc1"
      },
      "execution_count": null,
      "outputs": [
        {
          "output_type": "stream",
          "name": "stdout",
          "text": [
            "The function f is onto.\n"
          ]
        }
      ]
    },
    {
      "cell_type": "code",
      "source": [
        "if one_to_one(A, B, f)and is_onto(A, B, f):\n",
        "    print(\"The function f is Bijective.\")\n",
        "else:\n",
        "    print(\"The function f not Bijective.\")"
      ],
      "metadata": {
        "colab": {
          "base_uri": "https://localhost:8080/"
        },
        "id": "dUcL54RnOiHd",
        "outputId": "edb28574-e09d-4818-9276-cbe245ce3834"
      },
      "execution_count": null,
      "outputs": [
        {
          "output_type": "stream",
          "name": "stdout",
          "text": [
            "The function f not Bijective.\n"
          ]
        }
      ]
    },
    {
      "cell_type": "code",
      "source": [],
      "metadata": {
        "id": "8Vn1OtHvQip_"
      },
      "execution_count": null,
      "outputs": []
    }
  ]
}